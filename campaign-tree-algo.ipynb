{
 "cells": [
  {
   "cell_type": "code",
   "execution_count": 1,
   "id": "1517ee11",
   "metadata": {},
   "outputs": [],
   "source": [
    "\n",
    "import xlrd\n",
    "import pandas as pd\n",
    "import numpy as np\n",
    "import seaborn as sb\n",
    "import matplotlib.pyplot as plt\n",
    "%matplotlib inline\n",
    "from sklearn import preprocessing \n",
    "from sklearn import linear_model\n",
    "import statsmodels.api as sm\n",
    "from sklearn.metrics import mean_squared_error\n",
    "from sklearn.model_selection import train_test_split"
   ]
  },
  {
   "cell_type": "code",
   "execution_count": 76,
   "id": "ca4f2da3",
   "metadata": {},
   "outputs": [],
   "source": [
    "from sklearn import tree\n",
    "from sklearn.tree import DecisionTreeClassifier\n",
    "from sklearn.tree import plot_tree\n",
    "from sklearn.tree import export_graphviz\n",
    "from sklearn.tree import export_text\n",
    "from sklearn.model_selection import GridSearchCV\n",
    "from sklearn.compose import ColumnTransformer\n",
    "from sklearn.preprocessing import OneHotEncoder\n",
    "from sklearn.metrics import accuracy_score\n",
    "from sklearn.metrics import confusion_matrix\n"
   ]
  },
  {
   "cell_type": "code",
   "execution_count": 3,
   "id": "6575082e",
   "metadata": {},
   "outputs": [],
   "source": [
    "fb_img = pd.read_excel('test3.xlsx', sheet_name = 'facebook-img', index_col=[0])"
   ]
  },
  {
   "cell_type": "code",
   "execution_count": 4,
   "id": "3e954ff2",
   "metadata": {},
   "outputs": [
    {
     "data": {
      "text/html": [
       "<div>\n",
       "<style scoped>\n",
       "    .dataframe tbody tr th:only-of-type {\n",
       "        vertical-align: middle;\n",
       "    }\n",
       "\n",
       "    .dataframe tbody tr th {\n",
       "        vertical-align: top;\n",
       "    }\n",
       "\n",
       "    .dataframe thead th {\n",
       "        text-align: right;\n",
       "    }\n",
       "</style>\n",
       "<table border=\"1\" class=\"dataframe\">\n",
       "  <thead>\n",
       "    <tr style=\"text-align: right;\">\n",
       "      <th></th>\n",
       "      <th>promocion</th>\n",
       "      <th>servicio</th>\n",
       "      <th>tipo de campaña</th>\n",
       "      <th>reach</th>\n",
       "      <th>impressions</th>\n",
       "      <th>clicks</th>\n",
       "      <th>shares</th>\n",
       "      <th>likes</th>\n",
       "      <th>comments</th>\n",
       "      <th>engagement</th>\n",
       "      <th>...</th>\n",
       "      <th>CPI(cost per impression)</th>\n",
       "      <th>CTR(click through rate)</th>\n",
       "      <th>CPC(cost per click)</th>\n",
       "      <th>Unnamed: 15</th>\n",
       "      <th>Unnamed: 16</th>\n",
       "      <th>Unnamed: 17</th>\n",
       "      <th>Unnamed: 18</th>\n",
       "      <th>Unnamed: 19</th>\n",
       "      <th>Unnamed: 20</th>\n",
       "      <th>Unnamed: 21</th>\n",
       "    </tr>\n",
       "  </thead>\n",
       "  <tbody>\n",
       "    <tr>\n",
       "      <th>campaña 1</th>\n",
       "      <td>2 x 1</td>\n",
       "      <td>keratina</td>\n",
       "      <td>trafficking drive</td>\n",
       "      <td>600</td>\n",
       "      <td>304</td>\n",
       "      <td>68</td>\n",
       "      <td>12</td>\n",
       "      <td>33</td>\n",
       "      <td>15</td>\n",
       "      <td>60</td>\n",
       "      <td>...</td>\n",
       "      <td>0.559211</td>\n",
       "      <td>0.223684</td>\n",
       "      <td>2.500000</td>\n",
       "      <td>NaN</td>\n",
       "      <td>NaN</td>\n",
       "      <td>NaN</td>\n",
       "      <td>NaN</td>\n",
       "      <td>NaN</td>\n",
       "      <td>NaN</td>\n",
       "      <td>NaN</td>\n",
       "    </tr>\n",
       "    <tr>\n",
       "      <th>campaña 2</th>\n",
       "      <td>2 x 1</td>\n",
       "      <td>uñas</td>\n",
       "      <td>make sale</td>\n",
       "      <td>322</td>\n",
       "      <td>248</td>\n",
       "      <td>75</td>\n",
       "      <td>16</td>\n",
       "      <td>29</td>\n",
       "      <td>6</td>\n",
       "      <td>51</td>\n",
       "      <td>...</td>\n",
       "      <td>1.326613</td>\n",
       "      <td>0.302419</td>\n",
       "      <td>4.386667</td>\n",
       "      <td>NaN</td>\n",
       "      <td>NaN</td>\n",
       "      <td>NaN</td>\n",
       "      <td>NaN</td>\n",
       "      <td>NaN</td>\n",
       "      <td>NaN</td>\n",
       "      <td>NaN</td>\n",
       "    </tr>\n",
       "    <tr>\n",
       "      <th>campaña 3</th>\n",
       "      <td>puntos</td>\n",
       "      <td>balayage</td>\n",
       "      <td>trafficking drive</td>\n",
       "      <td>322</td>\n",
       "      <td>347</td>\n",
       "      <td>60</td>\n",
       "      <td>30</td>\n",
       "      <td>20</td>\n",
       "      <td>11</td>\n",
       "      <td>61</td>\n",
       "      <td>...</td>\n",
       "      <td>0.195965</td>\n",
       "      <td>0.172911</td>\n",
       "      <td>1.133333</td>\n",
       "      <td>NaN</td>\n",
       "      <td>NaN</td>\n",
       "      <td>NaN</td>\n",
       "      <td>NaN</td>\n",
       "      <td>NaN</td>\n",
       "      <td>NaN</td>\n",
       "      <td>NaN</td>\n",
       "    </tr>\n",
       "    <tr>\n",
       "      <th>campaña 4</th>\n",
       "      <td>bonos</td>\n",
       "      <td>carboplastia</td>\n",
       "      <td>make sale</td>\n",
       "      <td>565</td>\n",
       "      <td>295</td>\n",
       "      <td>87</td>\n",
       "      <td>10</td>\n",
       "      <td>40</td>\n",
       "      <td>13</td>\n",
       "      <td>63</td>\n",
       "      <td>...</td>\n",
       "      <td>0.986441</td>\n",
       "      <td>0.294915</td>\n",
       "      <td>3.344828</td>\n",
       "      <td>NaN</td>\n",
       "      <td>NaN</td>\n",
       "      <td>NaN</td>\n",
       "      <td>NaN</td>\n",
       "      <td>NaN</td>\n",
       "      <td>NaN</td>\n",
       "      <td>NaN</td>\n",
       "    </tr>\n",
       "    <tr>\n",
       "      <th>campaña 5</th>\n",
       "      <td>bonos</td>\n",
       "      <td>carboplastia</td>\n",
       "      <td>trafficking drive</td>\n",
       "      <td>490</td>\n",
       "      <td>299</td>\n",
       "      <td>69</td>\n",
       "      <td>30</td>\n",
       "      <td>25</td>\n",
       "      <td>4</td>\n",
       "      <td>59</td>\n",
       "      <td>...</td>\n",
       "      <td>0.183946</td>\n",
       "      <td>0.230769</td>\n",
       "      <td>0.797101</td>\n",
       "      <td>NaN</td>\n",
       "      <td>NaN</td>\n",
       "      <td>NaN</td>\n",
       "      <td>NaN</td>\n",
       "      <td>NaN</td>\n",
       "      <td>NaN</td>\n",
       "      <td>NaN</td>\n",
       "    </tr>\n",
       "  </tbody>\n",
       "</table>\n",
       "<p>5 rows × 21 columns</p>\n",
       "</div>"
      ],
      "text/plain": [
       "          promocion      servicio     tipo de campaña  reach  impressions  \\\n",
       "campaña 1     2 x 1      keratina   trafficking drive    600          304   \n",
       "campaña 2     2 x 1          uñas           make sale    322          248   \n",
       "campaña 3    puntos     balayage   trafficking drive     322          347   \n",
       "campaña 4     bonos  carboplastia           make sale    565          295   \n",
       "campaña 5     bonos  carboplastia   trafficking drive    490          299   \n",
       "\n",
       "           clicks  shares  likes  comments  engagement  ...  \\\n",
       "campaña 1      68      12     33        15          60  ...   \n",
       "campaña 2      75      16     29         6          51  ...   \n",
       "campaña 3      60      30     20        11          61  ...   \n",
       "campaña 4      87      10     40        13          63  ...   \n",
       "campaña 5      69      30     25         4          59  ...   \n",
       "\n",
       "           CPI(cost per impression)  CTR(click through rate)  \\\n",
       "campaña 1                  0.559211                 0.223684   \n",
       "campaña 2                  1.326613                 0.302419   \n",
       "campaña 3                  0.195965                 0.172911   \n",
       "campaña 4                  0.986441                 0.294915   \n",
       "campaña 5                  0.183946                 0.230769   \n",
       "\n",
       "           CPC(cost per click)  Unnamed: 15  Unnamed: 16  Unnamed: 17  \\\n",
       "campaña 1             2.500000          NaN          NaN          NaN   \n",
       "campaña 2             4.386667          NaN          NaN          NaN   \n",
       "campaña 3             1.133333          NaN          NaN          NaN   \n",
       "campaña 4             3.344828          NaN          NaN          NaN   \n",
       "campaña 5             0.797101          NaN          NaN          NaN   \n",
       "\n",
       "           Unnamed: 18  Unnamed: 19  Unnamed: 20  Unnamed: 21  \n",
       "campaña 1          NaN          NaN          NaN          NaN  \n",
       "campaña 2          NaN          NaN          NaN          NaN  \n",
       "campaña 3          NaN          NaN          NaN          NaN  \n",
       "campaña 4          NaN          NaN          NaN          NaN  \n",
       "campaña 5          NaN          NaN          NaN          NaN  \n",
       "\n",
       "[5 rows x 21 columns]"
      ]
     },
     "execution_count": 4,
     "metadata": {},
     "output_type": "execute_result"
    }
   ],
   "source": [
    "fb_img.head()"
   ]
  },
  {
   "cell_type": "code",
   "execution_count": 5,
   "id": "52de9c90",
   "metadata": {},
   "outputs": [],
   "source": [
    "fb_img.drop(['Unnamed: 15','Unnamed: 16','Unnamed: 17','Unnamed: 18','Unnamed: 19','Unnamed: 20','Unnamed: 21'], axis=1, inplace=True)"
   ]
  },
  {
   "cell_type": "code",
   "execution_count": 6,
   "id": "354d1f1c",
   "metadata": {},
   "outputs": [
    {
     "data": {
      "text/html": [
       "<div>\n",
       "<style scoped>\n",
       "    .dataframe tbody tr th:only-of-type {\n",
       "        vertical-align: middle;\n",
       "    }\n",
       "\n",
       "    .dataframe tbody tr th {\n",
       "        vertical-align: top;\n",
       "    }\n",
       "\n",
       "    .dataframe thead th {\n",
       "        text-align: right;\n",
       "    }\n",
       "</style>\n",
       "<table border=\"1\" class=\"dataframe\">\n",
       "  <thead>\n",
       "    <tr style=\"text-align: right;\">\n",
       "      <th></th>\n",
       "      <th>promocion</th>\n",
       "      <th>servicio</th>\n",
       "      <th>tipo de campaña</th>\n",
       "      <th>reach</th>\n",
       "      <th>impressions</th>\n",
       "      <th>clicks</th>\n",
       "      <th>shares</th>\n",
       "      <th>likes</th>\n",
       "      <th>comments</th>\n",
       "      <th>engagement</th>\n",
       "      <th>total cost of campaign</th>\n",
       "      <th>CPI(cost per impression)</th>\n",
       "      <th>CTR(click through rate)</th>\n",
       "      <th>CPC(cost per click)</th>\n",
       "    </tr>\n",
       "  </thead>\n",
       "  <tbody>\n",
       "    <tr>\n",
       "      <th>campaña 1</th>\n",
       "      <td>2 x 1</td>\n",
       "      <td>keratina</td>\n",
       "      <td>trafficking drive</td>\n",
       "      <td>600</td>\n",
       "      <td>304</td>\n",
       "      <td>68</td>\n",
       "      <td>12</td>\n",
       "      <td>33</td>\n",
       "      <td>15</td>\n",
       "      <td>60</td>\n",
       "      <td>170</td>\n",
       "      <td>0.559211</td>\n",
       "      <td>0.223684</td>\n",
       "      <td>2.500000</td>\n",
       "    </tr>\n",
       "    <tr>\n",
       "      <th>campaña 2</th>\n",
       "      <td>2 x 1</td>\n",
       "      <td>uñas</td>\n",
       "      <td>make sale</td>\n",
       "      <td>322</td>\n",
       "      <td>248</td>\n",
       "      <td>75</td>\n",
       "      <td>16</td>\n",
       "      <td>29</td>\n",
       "      <td>6</td>\n",
       "      <td>51</td>\n",
       "      <td>329</td>\n",
       "      <td>1.326613</td>\n",
       "      <td>0.302419</td>\n",
       "      <td>4.386667</td>\n",
       "    </tr>\n",
       "    <tr>\n",
       "      <th>campaña 3</th>\n",
       "      <td>puntos</td>\n",
       "      <td>balayage</td>\n",
       "      <td>trafficking drive</td>\n",
       "      <td>322</td>\n",
       "      <td>347</td>\n",
       "      <td>60</td>\n",
       "      <td>30</td>\n",
       "      <td>20</td>\n",
       "      <td>11</td>\n",
       "      <td>61</td>\n",
       "      <td>68</td>\n",
       "      <td>0.195965</td>\n",
       "      <td>0.172911</td>\n",
       "      <td>1.133333</td>\n",
       "    </tr>\n",
       "    <tr>\n",
       "      <th>campaña 4</th>\n",
       "      <td>bonos</td>\n",
       "      <td>carboplastia</td>\n",
       "      <td>make sale</td>\n",
       "      <td>565</td>\n",
       "      <td>295</td>\n",
       "      <td>87</td>\n",
       "      <td>10</td>\n",
       "      <td>40</td>\n",
       "      <td>13</td>\n",
       "      <td>63</td>\n",
       "      <td>291</td>\n",
       "      <td>0.986441</td>\n",
       "      <td>0.294915</td>\n",
       "      <td>3.344828</td>\n",
       "    </tr>\n",
       "    <tr>\n",
       "      <th>campaña 5</th>\n",
       "      <td>bonos</td>\n",
       "      <td>carboplastia</td>\n",
       "      <td>trafficking drive</td>\n",
       "      <td>490</td>\n",
       "      <td>299</td>\n",
       "      <td>69</td>\n",
       "      <td>30</td>\n",
       "      <td>25</td>\n",
       "      <td>4</td>\n",
       "      <td>59</td>\n",
       "      <td>55</td>\n",
       "      <td>0.183946</td>\n",
       "      <td>0.230769</td>\n",
       "      <td>0.797101</td>\n",
       "    </tr>\n",
       "  </tbody>\n",
       "</table>\n",
       "</div>"
      ],
      "text/plain": [
       "          promocion      servicio     tipo de campaña  reach  impressions  \\\n",
       "campaña 1     2 x 1      keratina   trafficking drive    600          304   \n",
       "campaña 2     2 x 1          uñas           make sale    322          248   \n",
       "campaña 3    puntos     balayage   trafficking drive     322          347   \n",
       "campaña 4     bonos  carboplastia           make sale    565          295   \n",
       "campaña 5     bonos  carboplastia   trafficking drive    490          299   \n",
       "\n",
       "           clicks  shares  likes  comments  engagement  \\\n",
       "campaña 1      68      12     33        15          60   \n",
       "campaña 2      75      16     29         6          51   \n",
       "campaña 3      60      30     20        11          61   \n",
       "campaña 4      87      10     40        13          63   \n",
       "campaña 5      69      30     25         4          59   \n",
       "\n",
       "           total cost of campaign  CPI(cost per impression)  \\\n",
       "campaña 1                     170                  0.559211   \n",
       "campaña 2                     329                  1.326613   \n",
       "campaña 3                      68                  0.195965   \n",
       "campaña 4                     291                  0.986441   \n",
       "campaña 5                      55                  0.183946   \n",
       "\n",
       "           CTR(click through rate)  CPC(cost per click)  \n",
       "campaña 1                 0.223684             2.500000  \n",
       "campaña 2                 0.302419             4.386667  \n",
       "campaña 3                 0.172911             1.133333  \n",
       "campaña 4                 0.294915             3.344828  \n",
       "campaña 5                 0.230769             0.797101  "
      ]
     },
     "execution_count": 6,
     "metadata": {},
     "output_type": "execute_result"
    }
   ],
   "source": [
    "fb_img.head()"
   ]
  },
  {
   "cell_type": "code",
   "execution_count": 7,
   "id": "8a9c71ec",
   "metadata": {},
   "outputs": [
    {
     "name": "stdout",
     "output_type": "stream",
     "text": [
      "Index(['promocion', 'servicio', 'tipo de campaña', 'reach', 'impressions',\n",
      "       'clicks', 'shares', 'likes', 'comments', 'engagement',\n",
      "       'total cost of campaign', 'CPI(cost per impression)',\n",
      "       'CTR(click through rate)', 'CPC(cost per click)'],\n",
      "      dtype='object')\n"
     ]
    }
   ],
   "source": [
    "print(fb_img.columns)"
   ]
  },
  {
   "cell_type": "code",
   "execution_count": null,
   "id": "5a29fcfe",
   "metadata": {},
   "outputs": [],
   "source": [
    "fb_img.drop(['Unnamed: 15','Unnamed: 16','Unnamed: 17','Unnamed: 18','Unnamed: 19','Unnamed: 20','Unnamed: 21'], axis=1, inplace=True)"
   ]
  },
  {
   "cell_type": "code",
   "execution_count": 111,
   "id": "c7adaceb",
   "metadata": {},
   "outputs": [
    {
     "data": {
      "text/html": [
       "<div>\n",
       "<style scoped>\n",
       "    .dataframe tbody tr th:only-of-type {\n",
       "        vertical-align: middle;\n",
       "    }\n",
       "\n",
       "    .dataframe tbody tr th {\n",
       "        vertical-align: top;\n",
       "    }\n",
       "\n",
       "    .dataframe thead th {\n",
       "        text-align: right;\n",
       "    }\n",
       "</style>\n",
       "<table border=\"1\" class=\"dataframe\">\n",
       "  <thead>\n",
       "    <tr style=\"text-align: right;\">\n",
       "      <th></th>\n",
       "      <th>promocion</th>\n",
       "      <th>servicio</th>\n",
       "      <th>tipo de campaña</th>\n",
       "      <th>reach</th>\n",
       "      <th>impressions</th>\n",
       "      <th>clicks</th>\n",
       "      <th>shares</th>\n",
       "      <th>likes</th>\n",
       "      <th>comments</th>\n",
       "      <th>engagement</th>\n",
       "      <th>total cost of campaign</th>\n",
       "      <th>CPI(cost per impression)</th>\n",
       "      <th>CTR(click through rate)</th>\n",
       "      <th>CPC(cost per click)</th>\n",
       "    </tr>\n",
       "  </thead>\n",
       "  <tbody>\n",
       "    <tr>\n",
       "      <th>campaña 1</th>\n",
       "      <td>2 x 1</td>\n",
       "      <td>keratina</td>\n",
       "      <td>trafficking drive</td>\n",
       "      <td>600</td>\n",
       "      <td>304</td>\n",
       "      <td>68</td>\n",
       "      <td>12</td>\n",
       "      <td>33</td>\n",
       "      <td>15</td>\n",
       "      <td>60</td>\n",
       "      <td>170</td>\n",
       "      <td>0.559211</td>\n",
       "      <td>0.223684</td>\n",
       "      <td>2.500000</td>\n",
       "    </tr>\n",
       "    <tr>\n",
       "      <th>campaña 2</th>\n",
       "      <td>2 x 1</td>\n",
       "      <td>uñas</td>\n",
       "      <td>make sale</td>\n",
       "      <td>322</td>\n",
       "      <td>248</td>\n",
       "      <td>75</td>\n",
       "      <td>16</td>\n",
       "      <td>29</td>\n",
       "      <td>6</td>\n",
       "      <td>51</td>\n",
       "      <td>329</td>\n",
       "      <td>1.326613</td>\n",
       "      <td>0.302419</td>\n",
       "      <td>4.386667</td>\n",
       "    </tr>\n",
       "    <tr>\n",
       "      <th>campaña 3</th>\n",
       "      <td>puntos</td>\n",
       "      <td>balayage</td>\n",
       "      <td>trafficking drive</td>\n",
       "      <td>322</td>\n",
       "      <td>347</td>\n",
       "      <td>60</td>\n",
       "      <td>30</td>\n",
       "      <td>20</td>\n",
       "      <td>11</td>\n",
       "      <td>61</td>\n",
       "      <td>68</td>\n",
       "      <td>0.195965</td>\n",
       "      <td>0.172911</td>\n",
       "      <td>1.133333</td>\n",
       "    </tr>\n",
       "    <tr>\n",
       "      <th>campaña 4</th>\n",
       "      <td>bonos</td>\n",
       "      <td>carboplastia</td>\n",
       "      <td>make sale</td>\n",
       "      <td>565</td>\n",
       "      <td>295</td>\n",
       "      <td>87</td>\n",
       "      <td>10</td>\n",
       "      <td>40</td>\n",
       "      <td>13</td>\n",
       "      <td>63</td>\n",
       "      <td>291</td>\n",
       "      <td>0.986441</td>\n",
       "      <td>0.294915</td>\n",
       "      <td>3.344828</td>\n",
       "    </tr>\n",
       "    <tr>\n",
       "      <th>campaña 5</th>\n",
       "      <td>bonos</td>\n",
       "      <td>carboplastia</td>\n",
       "      <td>trafficking drive</td>\n",
       "      <td>490</td>\n",
       "      <td>299</td>\n",
       "      <td>69</td>\n",
       "      <td>30</td>\n",
       "      <td>25</td>\n",
       "      <td>4</td>\n",
       "      <td>59</td>\n",
       "      <td>55</td>\n",
       "      <td>0.183946</td>\n",
       "      <td>0.230769</td>\n",
       "      <td>0.797101</td>\n",
       "    </tr>\n",
       "  </tbody>\n",
       "</table>\n",
       "</div>"
      ],
      "text/plain": [
       "          promocion      servicio     tipo de campaña  reach  impressions  \\\n",
       "campaña 1     2 x 1      keratina   trafficking drive    600          304   \n",
       "campaña 2     2 x 1          uñas           make sale    322          248   \n",
       "campaña 3    puntos     balayage   trafficking drive     322          347   \n",
       "campaña 4     bonos  carboplastia           make sale    565          295   \n",
       "campaña 5     bonos  carboplastia   trafficking drive    490          299   \n",
       "\n",
       "           clicks  shares  likes  comments  engagement  \\\n",
       "campaña 1      68      12     33        15          60   \n",
       "campaña 2      75      16     29         6          51   \n",
       "campaña 3      60      30     20        11          61   \n",
       "campaña 4      87      10     40        13          63   \n",
       "campaña 5      69      30     25         4          59   \n",
       "\n",
       "           total cost of campaign  CPI(cost per impression)  \\\n",
       "campaña 1                     170                  0.559211   \n",
       "campaña 2                     329                  1.326613   \n",
       "campaña 3                      68                  0.195965   \n",
       "campaña 4                     291                  0.986441   \n",
       "campaña 5                      55                  0.183946   \n",
       "\n",
       "           CTR(click through rate)  CPC(cost per click)  \n",
       "campaña 1                 0.223684             2.500000  \n",
       "campaña 2                 0.302419             4.386667  \n",
       "campaña 3                 0.172911             1.133333  \n",
       "campaña 4                 0.294915             3.344828  \n",
       "campaña 5                 0.230769             0.797101  "
      ]
     },
     "execution_count": 111,
     "metadata": {},
     "output_type": "execute_result"
    }
   ],
   "source": [
    "df.head()"
   ]
  },
  {
   "cell_type": "code",
   "execution_count": 10,
   "id": "af1feec7",
   "metadata": {},
   "outputs": [
    {
     "name": "stdout",
     "output_type": "stream",
     "text": [
      "Index(['promocion', 'servicio', 'tipo de campaña', 'reach', 'impressions',\n",
      "       'clicks', 'shares', 'likes', 'comments', 'engagement',\n",
      "       'total cost of campaign', 'CPI(cost per impression)',\n",
      "       'CTR(click through rate)', 'CPC(cost per click)'],\n",
      "      dtype='object')\n"
     ]
    }
   ],
   "source": [
    "print(fb_img.columns)"
   ]
  },
  {
   "cell_type": "code",
   "execution_count": 158,
   "id": "9d2403eb",
   "metadata": {},
   "outputs": [
    {
     "name": "stdout",
     "output_type": "stream",
     "text": [
      "501 0 1486 224\n"
     ]
    }
   ],
   "source": [
    " keratina_sum =  df.loc[df['servicio'] == 'keratina', 'engagement'].sum()\n",
    "balayage_sum =  df.loc[df['servicio'] == 'balayage', 'engagement'].sum()\n",
    "carboplastia_sum =  df.loc[df['servicio'] == 'carboplastia', 'engagement'].sum()\n",
    "uñas_sum =  df.loc[df['servicio'] == 'uñas', 'engagement'].sum()\n",
    "\n",
    "print(keratina_sum, balayage_sum,carboplastia_sum,uñas_sum )\n",
    "\n",
    "servicios_sum = keratina_sum, balayage_sum,carboplastia_sum,uñas_sum\n"
   ]
  },
  {
   "cell_type": "code",
   "execution_count": 149,
   "id": "16bc89e9",
   "metadata": {},
   "outputs": [
    {
     "data": {
      "image/png": "[encoded data removed]",
      "text/plain": [
       "<Figure size 432x288 with 1 Axes>"
      ]
     },
     "metadata": {},
     "output_type": "display_data"
    }
   ],
   "source": [
    "import matplotlib.pyplot as plt\n",
    "import numpy as np\n",
    "\n",
    "y = np.array([501, 0, 1486, 224])\n",
    "mylabels = [\"keratina\", \"balayage\", \"carboplastia\", \"uñas\"]\n",
    "\n",
    "\n",
    "plt.pie(y, labels = mylabels)\n",
    "plt.show() \n"
   ]
  },
  {
   "cell_type": "code",
   "execution_count": 155,
   "id": "ae1daa3e",
   "metadata": {},
   "outputs": [
    {
     "name": "stdout",
     "output_type": "stream",
     "text": [
      "718 295 239\n"
     ]
    }
   ],
   "source": [
    "carboplastia_sum2 =  df.loc[(df['servicio'] == 'carboplastia')& (df['promocion'] == 'bonos'),'engagement'].sum()\n",
    "carboplastia_sum3 =  df.loc[(df['servicio'] == 'carboplastia')& (df['promocion'] == '2 x 1'),'engagement'].sum()\n",
    "carboplastia_sum4 =  df.loc[(df['servicio'] == 'carboplastia')& (df['promocion'] == 'puntos'),'engagement'].sum()\n",
    "\n",
    "print(carboplastia_sum2,carboplastia_sum3,carboplastia_sum4)"
   ]
  },
  {
   "cell_type": "code",
   "execution_count": 150,
   "id": "0364748e",
   "metadata": {},
   "outputs": [
    {
     "data": {
      "image/png": "[encoded data removed]",
      "text/plain": [
       "<Figure size 432x288 with 1 Axes>"
      ]
     },
     "metadata": {},
     "output_type": "display_data"
    }
   ],
   "source": [
    "y = np.array([691, 414, 1364])\n",
    "mylabels = [\"dos por uno\", \"puntos\", \"bonos\"]\n",
    "\n",
    "\n",
    "plt.pie(y, labels = mylabels)\n",
    "plt.show() \n"
   ]
  },
  {
   "cell_type": "code",
   "execution_count": 161,
   "id": "669bd80c",
   "metadata": {},
   "outputs": [
    {
     "data": {
      "image/png": "[encoded data removed]",
      "text/plain": [
       "<Figure size 432x288 with 1 Axes>"
      ]
     },
     "metadata": {},
     "output_type": "display_data"
    }
   ],
   "source": [
    "y = np.array([718, 295, 239])\n",
    "\n",
    "mylabels = [\"bonos\", \"2 x 1\", \"puntos\"]\n",
    "\n",
    "plt.pie(y, labels = mylabels)\n",
    "plt.show() \n"
   ]
  },
  {
   "cell_type": "code",
   "execution_count": null,
   "id": "5b7675cd",
   "metadata": {},
   "outputs": [],
   "source": []
  },
  {
   "cell_type": "code",
   "execution_count": 33,
   "id": "cdd8a5ac",
   "metadata": {},
   "outputs": [],
   "source": [
    " fb_img['performance'] = np.where((fb_img[\"clicks\"]>=30) & (fb_img[\"impressions\"]>=10) & (fb_img[\"engagement\"]>=20)& (fb_img[\"total cost of campaign\"]<=200) & (fb_img[\"CTR(click through rate)\"]>=0.20), 1,0)\n"
   ]
  },
  {
   "cell_type": "code",
   "execution_count": 35,
   "id": "1ae4b805",
   "metadata": {},
   "outputs": [
    {
     "data": {
      "text/html": [
       "<div>\n",
       "<style scoped>\n",
       "    .dataframe tbody tr th:only-of-type {\n",
       "        vertical-align: middle;\n",
       "    }\n",
       "\n",
       "    .dataframe tbody tr th {\n",
       "        vertical-align: top;\n",
       "    }\n",
       "\n",
       "    .dataframe thead th {\n",
       "        text-align: right;\n",
       "    }\n",
       "</style>\n",
       "<table border=\"1\" class=\"dataframe\">\n",
       "  <thead>\n",
       "    <tr style=\"text-align: right;\">\n",
       "      <th></th>\n",
       "      <th>promocion</th>\n",
       "      <th>servicio</th>\n",
       "      <th>tipo de campaña</th>\n",
       "      <th>reach</th>\n",
       "      <th>impressions</th>\n",
       "      <th>clicks</th>\n",
       "      <th>shares</th>\n",
       "      <th>likes</th>\n",
       "      <th>comments</th>\n",
       "      <th>engagement</th>\n",
       "      <th>total cost of campaign</th>\n",
       "      <th>CPI(cost per impression)</th>\n",
       "      <th>CTR(click through rate)</th>\n",
       "      <th>CPC(cost per click)</th>\n",
       "      <th>performance</th>\n",
       "    </tr>\n",
       "  </thead>\n",
       "  <tbody>\n",
       "    <tr>\n",
       "      <th>campaña 1</th>\n",
       "      <td>2 x 1</td>\n",
       "      <td>keratina</td>\n",
       "      <td>trafficking drive</td>\n",
       "      <td>600</td>\n",
       "      <td>304</td>\n",
       "      <td>68</td>\n",
       "      <td>12</td>\n",
       "      <td>33</td>\n",
       "      <td>15</td>\n",
       "      <td>60</td>\n",
       "      <td>170</td>\n",
       "      <td>0.559211</td>\n",
       "      <td>0.223684</td>\n",
       "      <td>2.500000</td>\n",
       "      <td>1</td>\n",
       "    </tr>\n",
       "    <tr>\n",
       "      <th>campaña 2</th>\n",
       "      <td>2 x 1</td>\n",
       "      <td>uñas</td>\n",
       "      <td>make sale</td>\n",
       "      <td>322</td>\n",
       "      <td>248</td>\n",
       "      <td>75</td>\n",
       "      <td>16</td>\n",
       "      <td>29</td>\n",
       "      <td>6</td>\n",
       "      <td>51</td>\n",
       "      <td>329</td>\n",
       "      <td>1.326613</td>\n",
       "      <td>0.302419</td>\n",
       "      <td>4.386667</td>\n",
       "      <td>0</td>\n",
       "    </tr>\n",
       "    <tr>\n",
       "      <th>campaña 3</th>\n",
       "      <td>puntos</td>\n",
       "      <td>balayage</td>\n",
       "      <td>trafficking drive</td>\n",
       "      <td>322</td>\n",
       "      <td>347</td>\n",
       "      <td>60</td>\n",
       "      <td>30</td>\n",
       "      <td>20</td>\n",
       "      <td>11</td>\n",
       "      <td>61</td>\n",
       "      <td>68</td>\n",
       "      <td>0.195965</td>\n",
       "      <td>0.172911</td>\n",
       "      <td>1.133333</td>\n",
       "      <td>0</td>\n",
       "    </tr>\n",
       "    <tr>\n",
       "      <th>campaña 4</th>\n",
       "      <td>bonos</td>\n",
       "      <td>carboplastia</td>\n",
       "      <td>make sale</td>\n",
       "      <td>565</td>\n",
       "      <td>295</td>\n",
       "      <td>87</td>\n",
       "      <td>10</td>\n",
       "      <td>40</td>\n",
       "      <td>13</td>\n",
       "      <td>63</td>\n",
       "      <td>291</td>\n",
       "      <td>0.986441</td>\n",
       "      <td>0.294915</td>\n",
       "      <td>3.344828</td>\n",
       "      <td>0</td>\n",
       "    </tr>\n",
       "    <tr>\n",
       "      <th>campaña 5</th>\n",
       "      <td>bonos</td>\n",
       "      <td>carboplastia</td>\n",
       "      <td>trafficking drive</td>\n",
       "      <td>490</td>\n",
       "      <td>299</td>\n",
       "      <td>69</td>\n",
       "      <td>30</td>\n",
       "      <td>25</td>\n",
       "      <td>4</td>\n",
       "      <td>59</td>\n",
       "      <td>55</td>\n",
       "      <td>0.183946</td>\n",
       "      <td>0.230769</td>\n",
       "      <td>0.797101</td>\n",
       "      <td>1</td>\n",
       "    </tr>\n",
       "  </tbody>\n",
       "</table>\n",
       "</div>"
      ],
      "text/plain": [
       "          promocion      servicio     tipo de campaña  reach  impressions  \\\n",
       "campaña 1     2 x 1      keratina   trafficking drive    600          304   \n",
       "campaña 2     2 x 1          uñas           make sale    322          248   \n",
       "campaña 3    puntos     balayage   trafficking drive     322          347   \n",
       "campaña 4     bonos  carboplastia           make sale    565          295   \n",
       "campaña 5     bonos  carboplastia   trafficking drive    490          299   \n",
       "\n",
       "           clicks  shares  likes  comments  engagement  \\\n",
       "campaña 1      68      12     33        15          60   \n",
       "campaña 2      75      16     29         6          51   \n",
       "campaña 3      60      30     20        11          61   \n",
       "campaña 4      87      10     40        13          63   \n",
       "campaña 5      69      30     25         4          59   \n",
       "\n",
       "           total cost of campaign  CPI(cost per impression)  \\\n",
       "campaña 1                     170                  0.559211   \n",
       "campaña 2                     329                  1.326613   \n",
       "campaña 3                      68                  0.195965   \n",
       "campaña 4                     291                  0.986441   \n",
       "campaña 5                      55                  0.183946   \n",
       "\n",
       "           CTR(click through rate)  CPC(cost per click)  performance  \n",
       "campaña 1                 0.223684             2.500000            1  \n",
       "campaña 2                 0.302419             4.386667            0  \n",
       "campaña 3                 0.172911             1.133333            0  \n",
       "campaña 4                 0.294915             3.344828            0  \n",
       "campaña 5                 0.230769             0.797101            1  "
      ]
     },
     "execution_count": 35,
     "metadata": {},
     "output_type": "execute_result"
    }
   ],
   "source": [
    "fb_img.head()"
   ]
  },
  {
   "cell_type": "code",
   "execution_count": 36,
   "id": "83e3d846",
   "metadata": {},
   "outputs": [],
   "source": [
    "test24 = fb_img.copy()"
   ]
  },
  {
   "cell_type": "code",
   "execution_count": 57,
   "id": "8e4477e0",
   "metadata": {},
   "outputs": [],
   "source": [
    "x = test24.drop(['performance', 'promocion', 'tipo de campaña', 'servicio' , 'CPC(cost per click)'], axis = 1)\n",
    "                 "
   ]
  },
  {
   "cell_type": "code",
   "execution_count": 82,
   "id": "3c7023a6",
   "metadata": {},
   "outputs": [
    {
     "name": "stdout",
     "output_type": "stream",
     "text": [
      "Index(['reach', 'impressions', 'clicks', 'shares', 'likes', 'comments',\n",
      "       'engagement', 'total cost of campaign', 'CPI(cost per impression)',\n",
      "       'CTR(click through rate)'],\n",
      "      dtype='object')\n"
     ]
    }
   ],
   "source": [
    "print(x.columns)"
   ]
  },
  {
   "cell_type": "code",
   "execution_count": 93,
   "id": "d046bc0a",
   "metadata": {},
   "outputs": [],
   "source": [
    "x_columns=x.columns"
   ]
  },
  {
   "cell_type": "code",
   "execution_count": 64,
   "id": "94906ffd",
   "metadata": {},
   "outputs": [],
   "source": [
    "y =test24['performance']"
   ]
  },
  {
   "cell_type": "code",
   "execution_count": 71,
   "id": "4cf009ac",
   "metadata": {},
   "outputs": [],
   "source": [
    "x_train, x_test, y_train, y_test = train_test_split(x,y, test_size= 0.3, random_state = 322)\n",
    "                                    "
   ]
  },
  {
   "cell_type": "code",
   "execution_count": null,
   "id": "3971398d",
   "metadata": {},
   "outputs": [],
   "source": []
  },
  {
   "cell_type": "code",
   "execution_count": 100,
   "id": "a7e68106",
   "metadata": {},
   "outputs": [],
   "source": [
    "modelo = tree.DecisionTreeClassifier(\n",
    "            max_depth         = 6,\n",
    "            criterion         = 'gini',\n",
    "            random_state      = 443\n",
    "          )"
   ]
  },
  {
   "cell_type": "code",
   "execution_count": 101,
   "id": "05780a65",
   "metadata": {},
   "outputs": [],
   "source": [
    "modelo1 =modelo.fit(x,y)"
   ]
  },
  {
   "cell_type": "code",
   "execution_count": 102,
   "id": "54c663bc",
   "metadata": {},
   "outputs": [
    {
     "data": {
      "text/plain": [
       "1.0"
      ]
     },
     "execution_count": 102,
     "metadata": {},
     "output_type": "execute_result"
    }
   ],
   "source": [
    "modelo.score(x,y)"
   ]
  },
  {
   "cell_type": "code",
   "execution_count": 103,
   "id": "e663e031",
   "metadata": {},
   "outputs": [
    {
     "data": {
      "text/plain": [
       "array([0])"
      ]
     },
     "execution_count": 103,
     "metadata": {},
     "output_type": "execute_result"
    }
   ],
   "source": [
    "modelo.predict([[400, 200,75, 25, 33, 13, 51, 170, 0.55, 0.17 ]])"
   ]
  },
  {
   "cell_type": "code",
   "execution_count": null,
   "id": "799e2860",
   "metadata": {},
   "outputs": [],
   "source": []
  },
  {
   "cell_type": "code",
   "execution_count": 109,
   "id": "4bc77d43",
   "metadata": {},
   "outputs": [
    {
     "name": "stdout",
     "output_type": "stream",
     "text": [
      "Profundidad del árbol: 2\n",
      "Número de nodos terminales: 3\n"
     ]
    },
    {
     "data": {
      "image/png": "[encoded data removed]",
      "text/plain": [
       "<Figure size 936x432 with 1 Axes>"
      ]
     },
     "metadata": {
      "needs_background": "light"
     },
     "output_type": "display_data"
    }
   ],
   "source": [
    "fig, ax = plt.subplots(figsize=(13, 6))\n",
    "\n",
    "print(f\"Profundidad del árbol: {modelo.get_depth()}\")\n",
    "print(f\"Número de nodos terminales: {modelo.get_n_leaves()}\")\n",
    "\n",
    "plot = plot_tree(\n",
    "            decision_tree = modelo1,\n",
    "            feature_names = x.columns,\n",
    "            class_names   = 'performance',\n",
    "            filled        = True,\n",
    "            impurity      = False,\n",
    "            fontsize      = 7,\n",
    "            ax            = ax\n",
    "       )"
   ]
  },
  {
   "cell_type": "code",
   "execution_count": null,
   "id": "0db74cec",
   "metadata": {},
   "outputs": [],
   "source": []
  }
 ],
 "metadata": {
  "kernelspec": {
   "display_name": "Python 3",
   "language": "python",
   "name": "python3"
  },
  "language_info": {
   "codemirror_mode": {
    "name": "ipython",
    "version": 3
   },
   "file_extension": ".py",
   "mimetype": "text/x-python",
   "name": "python",
   "nbconvert_exporter": "python",
   "pygments_lexer": "ipython3",
   "version": "3.7.6"
  }
 },
 "nbformat": 4,
 "nbformat_minor": 5
}
